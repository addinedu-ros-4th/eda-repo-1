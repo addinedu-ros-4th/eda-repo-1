{
 "cells": [
  {
   "cell_type": "markdown",
   "metadata": {},
   "source": [
    "### google 항공편 데이터와 naver 항공평의 컬럼 순서 맞추기"
   ]
  },
  {
   "cell_type": "code",
   "execution_count": 1,
   "metadata": {},
   "outputs": [],
   "source": [
    "import pandas as pd\n",
    "import numpy as np\n",
    "import re"
   ]
  },
  {
   "cell_type": "code",
   "execution_count": 2,
   "metadata": {},
   "outputs": [],
   "source": [
    "# 불러오기\n",
    "column_names = ['항공사', '출발시간', '출발공항', '도착시간', '도착공항', '비행방식', '비행시간', '추출시간', '편도/왕복', '가격', '편명']\n",
    "raw_google_bangkok_26 = pd.read_csv('/', names=column_names, header=None)\n",
    "raw_google_bangkok_27 = pd.read_csv('/', names=column_names, header=None)\n",
    "raw_google_danang_26 = pd.read_csv('/', names=column_names, header=None)\n",
    "raw_google_danang_27 = pd.read_csv('/', names=column_names, header=None)\n",
    "raw_google_osaka_26 = pd.read_csv('/', names=column_names, header=None)\n",
    "raw_google_osaka_27 = pd.read_csv('/', names=column_names, header=None)\n",
    "\n",
    "\n",
    "\n",
    "# nan값 없애기\n",
    "raw_google_bangkok_26 = raw_google_bangkok_26[raw_google_bangkok_26['가격'].notna()].reset_index(drop=True)\n",
    "raw_google_bangkok_27 = raw_google_bangkok_27[raw_google_bangkok_27['가격'].notna()].reset_index(drop=True)\n",
    "raw_google_danang_26 = raw_google_danang_26[raw_google_danang_26['가격'].notna()].reset_index(drop=True)\n",
    "raw_google_danang_27 = raw_google_danang_27[raw_google_danang_27['가격'].notna()].reset_index(drop=True)\n",
    "raw_google_osaka_26 = raw_google_osaka_26[raw_google_osaka_26['가격'].notna()].reset_index(drop=True)\n",
    "raw_google_osaka_27 = raw_google_osaka_27[raw_google_osaka_27['가격'].notna()].reset_index(drop=True)\n"
   ]
  },
  {
   "cell_type": "code",
   "execution_count": 3,
   "metadata": {},
   "outputs": [],
   "source": [
    "naver_order = ['항공사', '출발시간', '출발공항', '도착시간', '도착공항',\n",
    "            '비행방식', '비행시간', '편도/왕복', '가격', '추출시간', '편명']"
   ]
  },
  {
   "cell_type": "code",
   "execution_count": 4,
   "metadata": {},
   "outputs": [],
   "source": [
    "# 네이버 항공편 순서대로 바꾸기\n",
    "raw_google_bangkok_26 = raw_google_bangkok_26[naver_order]\n",
    "raw_google_bangkok_27 = raw_google_bangkok_27[naver_order]\n",
    "raw_google_danang_26 = raw_google_danang_26[naver_order]\n",
    "raw_google_danang_27 = raw_google_danang_27[naver_order]\n",
    "raw_google_osaka_26 = raw_google_osaka_26[naver_order]\n",
    "raw_google_osaka_27 = raw_google_osaka_27[naver_order]"
   ]
  },
  {
   "cell_type": "code",
   "execution_count": 5,
   "metadata": {},
   "outputs": [],
   "source": [
    "# 출발시간 9:35 -> 09:35\n",
    "raw_google_bangkok_26['출발시간'] = pd.to_datetime(raw_google_bangkok_26['출발시간'], format='%H:%M').dt.strftime('%H:%M')\n",
    "raw_google_bangkok_27['출발시간'] = pd.to_datetime(raw_google_bangkok_27['출발시간'], format='%H:%M').dt.strftime('%H:%M')\n",
    "raw_google_danang_26['출발시간'] = pd.to_datetime(raw_google_danang_26['출발시간'], format='%H:%M').dt.strftime('%H:%M')\n",
    "raw_google_danang_27['출발시간'] = pd.to_datetime(raw_google_danang_27['출발시간'], format='%H:%M').dt.strftime('%H:%M')\n",
    "raw_google_osaka_26['출발시간'] = pd.to_datetime(raw_google_osaka_26['출발시간'], format='%H:%M').dt.strftime('%H:%M')\n",
    "raw_google_osaka_27['출발시간'] = pd.to_datetime(raw_google_osaka_27['출발시간'], format='%H:%M').dt.strftime('%H:%M')\n",
    "\n",
    "# 도착시간 25:20 -> 01:20, 9:35 -> 09:35\n",
    "raw_google_bangkok_26['도착시간'] = raw_google_bangkok_26['도착시간'].apply(lambda x: re.split('[:]', x))\n",
    "raw_google_bangkok_26['도착시간'] = raw_google_bangkok_26['도착시간'].apply(lambda x: f'{int(x[0]) % 24:02d}:{x[1]}')\n",
    "\n",
    "raw_google_bangkok_27['도착시간'] = raw_google_bangkok_27['도착시간'].apply(lambda x: re.split('[:]', x))\n",
    "raw_google_bangkok_27['도착시간'] = raw_google_bangkok_27['도착시간'].apply(lambda x: f'{int(x[0]) % 24:02d}:{x[1]}')\n",
    "\n",
    "raw_google_danang_26['도착시간'] = raw_google_danang_26['도착시간'].apply(lambda x: re.split('[:]', x))\n",
    "raw_google_danang_26['도착시간'] = raw_google_danang_26['도착시간'].apply(lambda x: f'{int(x[0]) % 24:02d}:{x[1]}')\n",
    "\n",
    "raw_google_danang_27['도착시간'] = raw_google_danang_27['도착시간'].apply(lambda x: re.split('[:]', x))\n",
    "raw_google_danang_27['도착시간'] = raw_google_danang_27['도착시간'].apply(lambda x: f'{int(x[0]) % 24:02d}:{x[1]}')\n",
    "\n",
    "raw_google_osaka_26['도착시간'] = raw_google_osaka_26['도착시간'].apply(lambda x: re.split('[:]', x))\n",
    "raw_google_osaka_26['도착시간'] = raw_google_osaka_26['도착시간'].apply(lambda x: f'{int(x[0]) % 24:02d}:{x[1]}')\n",
    "\n",
    "raw_google_osaka_27['도착시간'] = raw_google_osaka_27['도착시간'].apply(lambda x: re.split('[:]', x))\n",
    "raw_google_osaka_27['도착시간'] = raw_google_osaka_27['도착시간'].apply(lambda x: f'{int(x[0]) % 24:02d}:{x[1]}')"
   ]
  },
  {
   "cell_type": "markdown",
   "metadata": {},
   "source": [
    "### 시간 형식 맞추기"
   ]
  },
  {
   "cell_type": "code",
   "execution_count": 6,
   "metadata": {},
   "outputs": [],
   "source": [
    "# 31분이든 01분이든 걱정마세요! 일의 자리 분을 0으로 만들어 드립니다.\n",
    "def round_minutes(dt):\n",
    "    minute = dt.minute\n",
    "    if 1 <= minute <= 29:\n",
    "        return dt.replace(minute=0)\n",
    "    elif 31 <= minute <= 59:\n",
    "        return dt.replace(minute=30)\n",
    "    else:\n",
    "        return dt"
   ]
  },
  {
   "cell_type": "code",
   "execution_count": 7,
   "metadata": {},
   "outputs": [],
   "source": [
    "raw_google_bangkok_26['추출시간'] = pd.to_datetime(raw_google_bangkok_26['추출시간']).apply(round_minutes)\n",
    "raw_google_bangkok_26['추출시간'] = raw_google_bangkok_26['추출시간'].dt.strftime('%Y-%m-%d %H:%M')\n",
    "\n",
    "raw_google_bangkok_27['추출시간'] = pd.to_datetime(raw_google_bangkok_27['추출시간']).apply(round_minutes)\n",
    "raw_google_bangkok_27['추출시간'] = raw_google_bangkok_27['추출시간'].dt.strftime('%Y-%m-%d %H:%M')\n",
    "\n",
    "raw_google_danang_26['추출시간'] = pd.to_datetime(raw_google_danang_26['추출시간']).apply(round_minutes)\n",
    "raw_google_danang_26['추출시간'] = raw_google_danang_26['추출시간'].dt.strftime('%Y-%m-%d %H:%M')\n",
    "\n",
    "raw_google_danang_27['추출시간'] = pd.to_datetime(raw_google_danang_27['추출시간']).apply(round_minutes)\n",
    "raw_google_danang_27['추출시간'] = raw_google_danang_27['추출시간'].dt.strftime('%Y-%m-%d %H:%M')\n",
    "\n",
    "raw_google_osaka_26['추출시간'] = pd.to_datetime(raw_google_osaka_26['추출시간']).apply(round_minutes)\n",
    "raw_google_osaka_26['추출시간'] = raw_google_osaka_26['추출시간'].dt.strftime('%Y-%m-%d %H:%M')\n",
    "\n",
    "raw_google_osaka_27['추출시간'] = pd.to_datetime(raw_google_osaka_27['추출시간']).apply(round_minutes)\n",
    "raw_google_osaka_27['추출시간'] = raw_google_osaka_27['추출시간'].dt.strftime('%Y-%m-%d %H:%M')"
   ]
  },
  {
   "cell_type": "code",
   "execution_count": 8,
   "metadata": {},
   "outputs": [],
   "source": [
    "# 항공사 명에 공백 제거\n",
    "raw_google_bangkok_26['항공사'] = raw_google_bangkok_26['항공사'].str.replace(' ', '')\n",
    "raw_google_bangkok_27['항공사'] = raw_google_bangkok_27['항공사'].str.replace(' ', '')\n",
    "raw_google_danang_26['항공사'] = raw_google_danang_26['항공사'].str.replace(' ', '')\n",
    "raw_google_danang_27['항공사'] = raw_google_danang_27['항공사'].str.replace(' ', '')\n",
    "raw_google_osaka_26['항공사'] = raw_google_osaka_26['항공사'].str.replace(' ', '')\n",
    "raw_google_osaka_27['항공사'] = raw_google_osaka_27['항공사'].str.replace(' ', '')"
   ]
  },
  {
   "cell_type": "code",
   "execution_count": 9,
   "metadata": {},
   "outputs": [],
   "source": [
    "raw_google_bangkok_26.to_csv('/', index=False)\n",
    "raw_google_bangkok_27.to_csv('/', index=False)\n",
    "raw_google_danang_26.to_csv('/', index=False)\n",
    "raw_google_danang_27.to_csv('/', index=False)\n",
    "raw_google_osaka_26.to_csv('/', index=False)\n",
    "raw_google_osaka_27.to_csv('/', index=False)\n"
   ]
  },
  {
   "cell_type": "code",
   "execution_count": 11,
   "metadata": {},
   "outputs": [
    {
     "name": "stdout",
     "output_type": "stream",
     "text": [
      "<class 'pandas.core.frame.DataFrame'>\n",
      "RangeIndex: 385 entries, 0 to 384\n",
      "Data columns (total 11 columns):\n",
      " #   Column  Non-Null Count  Dtype \n",
      "---  ------  --------------  ----- \n",
      " 0   항공사     385 non-null    object\n",
      " 1   출발시간    385 non-null    object\n",
      " 2   출발공항    385 non-null    object\n",
      " 3   도착시간    385 non-null    object\n",
      " 4   도착공항    385 non-null    object\n",
      " 5   비행방식    385 non-null    object\n",
      " 6   비행시간    385 non-null    object\n",
      " 7   편도/왕복   385 non-null    object\n",
      " 8   가격      385 non-null    object\n",
      " 9   추출시간    385 non-null    object\n",
      " 10  편명      385 non-null    object\n",
      "dtypes: object(11)\n",
      "memory usage: 33.2+ KB\n"
     ]
    }
   ],
   "source": [
    "raw_google_bangkok_26.info()"
   ]
  },
  {
   "cell_type": "code",
   "execution_count": 15,
   "metadata": {},
   "outputs": [
    {
     "name": "stdout",
     "output_type": "stream",
     "text": [
      "<class 'pandas.core.frame.DataFrame'>\n",
      "RangeIndex: 385 entries, 0 to 384\n",
      "Data columns (total 11 columns):\n",
      " #   Column  Non-Null Count  Dtype         \n",
      "---  ------  --------------  -----         \n",
      " 0   항공사     385 non-null    object        \n",
      " 1   출발시간    385 non-null    object        \n",
      " 2   출발공항    385 non-null    object        \n",
      " 3   도착시간    385 non-null    datetime64[ns]\n",
      " 4   도착공항    385 non-null    object        \n",
      " 5   비행방식    385 non-null    object        \n",
      " 6   비행시간    385 non-null    object        \n",
      " 7   편도/왕복   385 non-null    object        \n",
      " 8   가격      385 non-null    object        \n",
      " 9   추출시간    385 non-null    object        \n",
      " 10  편명      385 non-null    object        \n",
      "dtypes: datetime64[ns](1), object(10)\n",
      "memory usage: 33.2+ KB\n"
     ]
    }
   ],
   "source": [
    "raw_google_bangkok_26['도착시간'] = pd.to_datetime(raw_google_bangkok_26['도착시간'])\n",
    "\n",
    "raw_google_bangkok_26.info()"
   ]
  },
  {
   "cell_type": "code",
   "execution_count": 12,
   "metadata": {},
   "outputs": [
    {
     "name": "stdout",
     "output_type": "stream",
     "text": [
      "<class 'pandas.core.frame.DataFrame'>\n",
      "RangeIndex: 408 entries, 0 to 407\n",
      "Data columns (total 11 columns):\n",
      " #   Column  Non-Null Count  Dtype \n",
      "---  ------  --------------  ----- \n",
      " 0   항공사     408 non-null    object\n",
      " 1   출발시간    408 non-null    object\n",
      " 2   출발공항    408 non-null    object\n",
      " 3   도착시간    408 non-null    object\n",
      " 4   도착공항    408 non-null    object\n",
      " 5   비행방식    408 non-null    object\n",
      " 6   비행시간    408 non-null    object\n",
      " 7   편도/왕복   408 non-null    object\n",
      " 8   가격      408 non-null    object\n",
      " 9   추출시간    408 non-null    object\n",
      " 10  편명      408 non-null    object\n",
      "dtypes: object(11)\n",
      "memory usage: 35.2+ KB\n"
     ]
    }
   ],
   "source": [
    "raw_google_bangkok_27.info()"
   ]
  },
  {
   "cell_type": "markdown",
   "metadata": {},
   "source": [
    "## bangkok google - bangkok naver\n",
    "\n",
    "타이 에어아시아 엑스 - 타이에어아시아엑스  \n",
    "THAI아시아나 - 타이항공"
   ]
  },
  {
   "cell_type": "code",
   "execution_count": 210,
   "metadata": {},
   "outputs": [],
   "source": [
    "import matplotlib.pyplot as plt\n",
    "import koreanize_matplotlib  \n",
    "import seaborn as sns"
   ]
  },
  {
   "cell_type": "code",
   "execution_count": 211,
   "metadata": {},
   "outputs": [],
   "source": [
    "raw_google_osaka_27['가격'] = raw_google_osaka_27['가격'].str.replace(',', '').str.replace('원', '').astype(int)"
   ]
  },
  {
   "cell_type": "code",
   "execution_count": 213,
   "metadata": {},
   "outputs": [
    {
     "data": {
      "text/plain": [
       "항공사\n",
       "<class 'str'>      700\n",
       "<class 'float'>     68\n",
       "Name: count, dtype: int64"
      ]
     },
     "execution_count": 213,
     "metadata": {},
     "output_type": "execute_result"
    }
   ],
   "source": [
    "raw_google_osaka_27['항공사'].apply(type).value_counts()\n"
   ]
  },
  {
   "cell_type": "code",
   "execution_count": 258,
   "metadata": {},
   "outputs": [
    {
     "name": "stdout",
     "output_type": "stream",
     "text": [
      "<class 'pandas.core.frame.DataFrame'>\n",
      "RangeIndex: 768 entries, 0 to 767\n",
      "Data columns (total 11 columns):\n",
      " #   Column  Non-Null Count  Dtype \n",
      "---  ------  --------------  ----- \n",
      " 0   항공사     768 non-null    object\n",
      " 1   출발시간    768 non-null    object\n",
      " 2   출발공항    768 non-null    object\n",
      " 3   도착시간    768 non-null    object\n",
      " 4   도착공항    768 non-null    object\n",
      " 5   비행방식    768 non-null    object\n",
      " 6   비행시간    768 non-null    object\n",
      " 7   추출시간    768 non-null    object\n",
      " 8   편도/왕복   768 non-null    object\n",
      " 9   가격      768 non-null    object\n",
      " 10  편명      768 non-null    object\n",
      "dtypes: object(11)\n",
      "memory usage: 66.1+ KB\n"
     ]
    }
   ],
   "source": [
    "raw_google_osaka_27.info()\n"
   ]
  }
 ],
 "metadata": {
  "kernelspec": {
   "display_name": "Python 3 (ipykernel)",
   "language": "python",
   "name": "python3"
  },
  "language_info": {
   "codemirror_mode": {
    "name": "ipython",
    "version": 3
   },
   "file_extension": ".py",
   "mimetype": "text/x-python",
   "name": "python",
   "nbconvert_exporter": "python",
   "pygments_lexer": "ipython3",
   "version": "3.10.12"
  }
 },
 "nbformat": 4,
 "nbformat_minor": 2
}
