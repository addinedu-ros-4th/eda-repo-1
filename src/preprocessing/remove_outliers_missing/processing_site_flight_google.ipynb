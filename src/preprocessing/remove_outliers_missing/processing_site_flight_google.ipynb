{
 "cells": [
  {
   "cell_type": "markdown",
   "metadata": {},
   "source": [
    "### 구글 데이터 칼럼 수정하는 코드"
   ]
  },
  {
   "cell_type": "code",
   "execution_count": 2,
   "metadata": {},
   "outputs": [],
   "source": [
    "import pandas as pd\n",
    "import numpy as np \n",
    "import datetime\n",
    "import os\n"
   ]
  },
  {
   "cell_type": "code",
   "execution_count": 14,
   "metadata": {},
   "outputs": [],
   "source": [
    "google_bangkok_26 = pd.read_csv(f'/home/subin/amr_ws/eda/src/project/Raw_data/최종 raw/구글 전처리 전 데이터/google_bangkok_26.csv')\n",
    "google_bangkok_27 = pd.read_csv(f'/home/subin/amr_ws/eda/src/project/Raw_data/최종 raw/구글 전처리 전 데이터/google_bangkok_27.csv')\n",
    "google_danang_26 = pd.read_csv(f'/home/subin/amr_ws/eda/src/project/Raw_data/최종 raw/구글 전처리 전 데이터/google_danang_26.csv')\n",
    "google_danang_27 = pd.read_csv(f'/home/subin/amr_ws/eda/src/project/Raw_data/최종 raw/구글 전처리 전 데이터/google_danang_27.csv')\n",
    "google_osaka_26 = pd.read_csv(f'/home/subin/amr_ws/eda/src/project/Raw_data/최종 raw/구글 전처리 전 데이터/google_osaka_26.csv')\n",
    "google_osaka_27 = pd.read_csv(f'/home/subin/amr_ws/eda/src/project/Raw_data/최종 raw/구글 전처리 전 데이터/google_osaka_27.csv')"
   ]
  },
  {
   "cell_type": "code",
   "execution_count": 15,
   "metadata": {},
   "outputs": [],
   "source": [
    "google_bangkok_26['비행일자'] = '24.01.26(금)'\n",
    "google_bangkok_26['사이트'] = 'google'\n",
    "google_danang_26['비행일자'] = '24.01.26(금)'\n",
    "google_danang_26['사이트'] = 'google'\n",
    "google_osaka_26['비행일자'] = '24.01.26(금)'\n",
    "google_osaka_26['사이트'] = 'google'\n",
    "\n",
    "google_bangkok_27['비행일자'] = '24.01.27(토)'\n",
    "google_bangkok_27['사이트'] = 'google'\n",
    "google_danang_27['비행일자'] = '24.01.27(토)'\n",
    "google_danang_27['사이트'] = 'google'\n",
    "google_osaka_27['비행일자'] = '24.01.27(토)'\n",
    "google_osaka_27['사이트'] = 'google'"
   ]
  },
  {
   "cell_type": "code",
   "execution_count": 16,
   "metadata": {},
   "outputs": [],
   "source": [
    "google_bangkok_26.to_csv('/home/subin/amr_ws/eda/src/project/Raw_data/최종 raw/이상치 결측치 제거 전 구글 데이터/google_bangkok_26.csv', index=False)\n",
    "google_bangkok_27.to_csv('/home/subin/amr_ws/eda/src/project/Raw_data/최종 raw/이상치 결측치 제거 전 구글 데이터/google_bangkok_27.csv', index=False)\n",
    "google_danang_26.to_csv('/home/subin/amr_ws/eda/src/project/Raw_data/최종 raw/이상치 결측치 제거 전 구글 데이터/google_danang_26.csv', index=False)\n",
    "google_danang_27.to_csv('/home/subin/amr_ws/eda/src/project/Raw_data/최종 raw/이상치 결측치 제거 전 구글 데이터/google_danang_27.csv', index=False)\n",
    "google_osaka_26.to_csv('/home/subin/amr_ws/eda/src/project/Raw_data/최종 raw/이상치 결측치 제거 전 구글 데이터/google_osaka_26.csv', index=False)\n",
    "google_osaka_27.to_csv('/home/subin/amr_ws/eda/src/project/Raw_data/최종 raw/이상치 결측치 제거 전 구글 데이터/google_osaka_27.csv', index=False)"
   ]
  }
 ],
 "metadata": {
  "kernelspec": {
   "display_name": "eda_venv",
   "language": "python",
   "name": "python3"
  },
  "language_info": {
   "codemirror_mode": {
    "name": "ipython",
    "version": 3
   },
   "file_extension": ".py",
   "mimetype": "text/x-python",
   "name": "python",
   "nbconvert_exporter": "python",
   "pygments_lexer": "ipython3",
   "version": "3.10.12"
  }
 },
 "nbformat": 4,
 "nbformat_minor": 2
}
