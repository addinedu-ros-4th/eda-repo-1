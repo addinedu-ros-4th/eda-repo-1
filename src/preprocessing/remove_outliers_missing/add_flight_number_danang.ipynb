{
 "cells": [
  {
   "cell_type": "markdown",
   "metadata": {},
   "source": [
    "## 네이버 항공 다낭행 26, 27일에 적용하기\n",
    "#### 사이트 재접속마다 이유 불문 사라졌다 나타나는 편명 추가하는 코드입니다."
   ]
  },
  {
   "cell_type": "code",
   "execution_count": null,
   "metadata": {},
   "outputs": [],
   "source": [
    "# naver 편명 추가하기\n",
    "\n",
    "import pandas as pd\n",
    "import numpy as np\n",
    "\n",
    "naver_danang_26 = pd.read_csv('/')\n",
    "a = naver_danang_26\n",
    "a.loc[(a['항공사'] == '비엣젯항공') & (a['출발시간'] == '22:40'), '편명'] = 'VJ 875'\n",
    "a.loc[(a['항공사'] == '이스타항공') & (a['출발시간'] == '20:55'), '편명'] = 'ZE 593'\n",
    "a.loc[(a['항공사'] == '비엣젯항공') & (a['출발시간'] == '07:00'), '편명'] = 'VJ 879'\n",
    "a.loc[(a['항공사'] == '에어서울') & (a['출발시간'] == '20:50'), '편명'] = 'RS 511'\n",
    "a.loc[(a['항공사'] == '티웨이항공') & (a['출발시간'] == '20:20'), '편명'] = 'TW 127'\n",
    "a.loc[(a['항공사'] == '티웨이항공') & (a['출발시간'] == '19:25'), '편명'] = 'TW 191'\n",
    "a.loc[(a['항공사'] == '티웨이항공') & (a['출발시간'] == '07:45'), '편명'] = 'TW 125'\n",
    "\n",
    "a.loc[(a['항공사'] == '베트남항공') & (a['출발시간'] == '18:30'), '편명'] = 'VN 3441'\n",
    "\n",
    "a.loc[(a['항공사'] == '베트남항공') & (a['출발시간'] == '10:45'), '편명'] = 'VN 431'\n",
    "a.loc[(a['항공사'] == '제주항공') & (a['출발시간'] == '21:20'), '편명'] = '7C 2903'\n",
    "a.loc[(a['항공사'] == '비엣젯항공') & (a['출발시간'] == '06:15'), '편명'] = 'VJ 881'\n",
    "a.loc[(a['항공사'] == '제주항공') & (a['출발시간'] == '10:40'), '편명'] = '7C 2901'\n",
    "a.loc[(a['항공사'] == '대한항공') & (a['출발시간'] == '18:30'), '편명'] = 'KE 461'\n",
    "a.loc[(a['항공사'] == '한에어') & (a['출발시간'] == '19:25'), '편명'] = 'H1 5885'\n",
    "a.loc[(a['항공사'] == '한에어') & (a['출발시간'] == '07:45'), '편명'] = 'H1 5898'\n",
    "a.loc[(a['항공사'] == '한에어') & (a['출발시간'] == '20:20'), '편명'] = 'H1 5914'\n",
    "a.loc[(a['항공사'] == '제주항공') & (a['출발시간'] == '11:40'), '편명'] = '7C 2901'\n",
    "\n",
    "a.loc[(a['항공사'] == '한에어') & (a['출발시간'] == '21:20'), '편명'] = 'H1 9877'\n",
    "a.loc[(a['항공사'] == '진에어') & (a['출발시간'] == '21:10'), '편명'] = 'LJ 69'\n",
    "a.loc[(a['항공사'] == '한에어') & (a['출발시간'] == '07:00'), '편명'] = 'H1 4069'\n",
    "a.loc[(a['항공사'] == '한에어') & (a['출발시간'] == '22:40'), '편명'] = 'H1 4068'\n",
    "a.loc[(a['항공사'] == '한에어') & (a['출발시간'] == '06:15'), '편명'] = 'H1 4519'\n",
    "a.loc[(a['항공사'] == 'Apg Distribution System') & (a['출발시간'] == '07:00'), '편명'] = 'A1 2879'\n",
    "a.loc[(a['항공사'] == 'Apg Distribution System') & (a['출발시간'] == '06:15'), '편명'] = 'A1 2881'\n",
    "# a.loc[(a['항공사'] == 'Apg Distribution System') & (a['출발시간'] == '22:40'), '편명'] = ''\n",
    "\n",
    "a.loc[(a['항공사'] == '대한항공') & (a['출발시간'] == '11:10'), '편명'] = 'KE 457'\n",
    "a.loc[(a['항공사'] == '아시아나항공') & (a['출발시간'] == '18:45'), '편명'] = 'OZ 755'\n",
    "\n",
    "# 빈 문자열이 하나라도 있으면 Nan 값 채우기\n",
    "if (a['편명'] == '').any():\n",
    "    a['편명'].fillna(value=np.nan, inplace=True)"
   ]
  },
  {
   "cell_type": "code",
   "execution_count": null,
   "metadata": {},
   "outputs": [],
   "source": [
    "# 편명이 Nan값이라면 결측치 제거\n",
    "a = a.dropna()\n",
    "a = a.drop('Unnamed: 0', axis=1)"
   ]
  },
  {
   "cell_type": "code",
   "execution_count": null,
   "metadata": {},
   "outputs": [],
   "source": [
    "a.to_csv('/')"
   ]
  }
 ],
 "metadata": {
  "kernelspec": {
   "display_name": "Python 3 (ipykernel)",
   "language": "python",
   "name": "python3"
  },
  "language_info": {
   "codemirror_mode": {
    "name": "ipython",
    "version": 3
   },
   "file_extension": ".py",
   "mimetype": "text/x-python",
   "name": "python",
   "nbconvert_exporter": "python",
   "pygments_lexer": "ipython3",
   "version": "3.10.12"
  }
 },
 "nbformat": 4,
 "nbformat_minor": 2
}
