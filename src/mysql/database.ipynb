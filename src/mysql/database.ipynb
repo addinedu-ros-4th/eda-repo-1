{
 "cells": [
  {
   "cell_type": "code",
   "execution_count": 12,
   "metadata": {},
   "outputs": [],
   "source": [
    "import mysql.connector"
   ]
  },
  {
   "cell_type": "code",
   "execution_count": 13,
   "metadata": {},
   "outputs": [],
   "source": [
    "# AWS RDS 연결\n",
    "conn = mysql.connector.connect(\n",
    "    host = \"\",\n",
    "    user = \"\",\n",
    "    password = \"\",\n",
    "    database = \"\"\n",
    ")"
   ]
  },
  {
   "cell_type": "code",
   "execution_count": null,
   "metadata": {},
   "outputs": [],
   "source": [
    "# cur = conn.cursor()\n",
    "# sql = open(\"insert_data_flight.sql\").read()\n",
    "# cur.execute(sql)"
   ]
  },
  {
   "cell_type": "code",
   "execution_count": 14,
   "metadata": {},
   "outputs": [],
   "source": [
    "import csv\n",
    "\n",
    "cur = conn.cursor()\n",
    "\n",
    "# CSV 파일 열기\n",
    "with open('/', 'r', encoding='utf-8') as file:\n",
    "    csv_reader = csv.reader(file)\n",
    "    next(csv_reader)  # 첫 번째 줄(헤더) 건너뛰기\n",
    "\n",
    "    # CSV 파일의 각 행을 데이터베이스에 삽입\n",
    "    for row in csv_reader:\n",
    "        query = \"\"\"\n",
    "        INSERT INTO flights (항공사, 출발시간, 출발공항, 도착시간, 도착공항,\n",
    "        비행방식, 소요시간, `편도/왕복`, 가격, 추출시간, 편명, 비행일자, 사이트)\n",
    "        VALUES (%s, %s, %s, %s, %s, %s, %s, %s, %s, %s, %s, %s, %s)\n",
    "        \"\"\"\n",
    "        cur.execute(query, tuple(row))\n",
    "\n",
    "# 변경사항 커밋\n",
    "conn.commit()\n",
    "\n",
    "# 데이터베이스 연결 종료\n",
    "cur.close()\n",
    "conn.close()"
   ]
  },
  {
   "cell_type": "code",
   "execution_count": null,
   "metadata": {},
   "outputs": [],
   "source": []
  }
 ],
 "metadata": {
  "kernelspec": {
   "display_name": "Python 3 (ipykernel)",
   "language": "python",
   "name": "python3"
  },
  "language_info": {
   "codemirror_mode": {
    "name": "ipython",
    "version": 3
   },
   "file_extension": ".py",
   "mimetype": "text/x-python",
   "name": "python",
   "nbconvert_exporter": "python",
   "pygments_lexer": "ipython3",
   "version": "3.10.12"
  }
 },
 "nbformat": 4,
 "nbformat_minor": 2
}
